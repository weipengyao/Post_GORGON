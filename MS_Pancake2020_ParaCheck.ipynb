{
 "cells": [
  {
   "cell_type": "code",
   "execution_count": 3,
   "metadata": {},
   "outputs": [],
   "source": [
    "import matplotlib         as mpl\n",
    "mpl.use('MacOSX')\n",
    "import os\n",
    "import errno\n",
    "# import PVTIclass          as PVIT\n",
    "import PVTIclass_modified as PVTImaterials\n",
    "import numpy              as np\n",
    "\n",
    "import matplotlib.pyplot  as plt\n",
    "import matplotlib.cm      as cm\n",
    "from mpl_toolkits.axes_grid1 import make_axes_locatable, ImageGrid\n"
   ]
  },
  {
   "cell_type": "code",
   "execution_count": 4,
   "metadata": {},
   "outputs": [],
   "source": [
    "# Solve the problem of plt.rc('text', usetex=True)\n",
    "os.environ[\"PATH\"] += os.pathsep + '/usr/local/texlive/2019/bin/x86_64-darwin'"
   ]
  },
  {
   "cell_type": "code",
   "execution_count": 5,
   "metadata": {},
   "outputs": [],
   "source": [
    "# Memory saving\n",
    "plt.close('all')\n",
    "\n",
    "# Publication Quality Figure Parameters\n",
    "plt.rc('font', family='sans-serif', serif='Arial')   # Spend a long time dealing with this. \n",
    "plt.rc('text', usetex=True)\n",
    "plt.rc('xtick', labelsize=18)\n",
    "plt.rc('ytick', labelsize=18)\n",
    "plt.rc('axes', labelsize=18)\n",
    "plt.rc('savefig', dpi=300)\n",
    "\n",
    "\n",
    "jetcmap = plt.cm.get_cmap(\"jet\", 9) #generate a jet map with 10 values \"rainbow\", \"jet\", YlOrRd\n",
    "jet_vals = jetcmap(np.arange(9)) #extract those values as an array \n",
    "jet_vals[0] = [1.0, 1, 1.0, 1] #change the first value \n",
    "jet_vals[8] = [0.0, 0, 0.0, 1] #change the first value \n",
    "newcmap = mpl.colors.LinearSegmentedColormap.from_list(\"mine\", jet_vals) \n",
    "\n",
    "jetcmap = plt.cm.get_cmap(\"YlOrRd\", 9) #generate a jet map with 10 values \"rainbow\", \"jet\", YlOrRd\n",
    "jet_vals = jetcmap(np.arange(9)) #extract those values as an array \n",
    "jet_vals[0] = [1.0, 1, 1.0, 1] #change the first value \n",
    "# jet_vals[8] = [0.0, 0, 0.0, 1] #change the first value \n",
    "newcmap1 = mpl.colors.LinearSegmentedColormap.from_list(\"mine\", jet_vals) \n"
   ]
  },
  {
   "cell_type": "code",
   "execution_count": 6,
   "metadata": {},
   "outputs": [],
   "source": [
    "MHD_prefix = \"Bx30_isoe_asym3_big\"\n",
    "MHD_workdir = \"/Users/yz/mount_folder_data/\" + MHD_prefix + \"/\"\n",
    "MHD_plots = MHD_workdir + \"plots/\"\n",
    "\n",
    "# create a directory to save plots\n",
    "if not os.path.exists(MHD_plots):\n",
    "    try:\n",
    "        os.makedirs(MHD_plots, 0755);print(\"Plots directory is created.\")\n",
    "    except OSError as e:\n",
    "        if e.errno != errno.EEXIST:\n",
    "            raise"
   ]
  },
  {
   "cell_type": "code",
   "execution_count": 7,
   "metadata": {},
   "outputs": [],
   "source": [
    "# Grid size\n",
    "# nxt = 400\n",
    "# nyt = 300\n",
    "# nzt = 900\n",
    "\n",
    "nxt = 400\n",
    "nyt = 400\n",
    "nzt = 1500"
   ]
  },
  {
   "cell_type": "code",
   "execution_count": 9,
   "metadata": {},
   "outputs": [],
   "source": [
    "# Units transformation\n",
    "scale = 1e3  \n",
    "\n",
    "# time\n",
    "time_stop          = 50e-9\n",
    "time_out_frequency = 5e-9\n",
    "time_output        = int(time_stop / time_out_frequency + 1)"
   ]
  },
  {
   "cell_type": "code",
   "execution_count": null,
   "metadata": {},
   "outputs": [],
   "source": [
    "ii = 5\n",
    "time = str(int((ii) * time_out_frequency * 1e9))  # Unit in ns\n",
    "#         Get data\n",
    "a = PVTImaterials.PVTI(MHD_workdir, MHD_prefix, ii)  # May take a long time\n",
    "a.GetData(density=True,\n",
    "          Z=True,\n",
    "          emission=True,\n",
    "          V=True,\n",
    "          B=True, \n",
    "          Ti=True, \n",
    "          Te=True,\n",
    "          J=True\n",
    "          )\n",
    "\n",
    "#         Transform data shape\n",
    "rho = a.cube(a.d)\n",
    "Zeff = a.cube(a.Z)\n",
    "Vx  = a.cube(a.V[:,0])\n",
    "Vy  = a.cube(a.V[:,1])\n",
    "Vz  = a.cube(a.V[:,2])\n",
    "Te  = a.cube(a.Te)\n",
    "Ti  = a.cube(a.Ti)\n",
    "em = a.cube(a.em)\n",
    "Jx  = a.cube(a.J[:,0])\n",
    "Jy  = a.cube(a.J[:,1])\n",
    "Jz  = a.cube(a.J[:,2])\n",
    "Bx  = a.cube(a.B[:,0])\n",
    "By  = a.cube(a.B[:,1])\n",
    "Bz  = a.cube(a.B[:,2])\n",
    "\n",
    "#         Set plot parameters\n",
    "#         extent\n",
    "bounds = a.mesh.GetBounds()\n",
    "xmin   = bounds[0] * scale\n",
    "xmax   = bounds[1] * scale\n",
    "ymin   = bounds[2] * scale\n",
    "ymax   = bounds[3] * scale\n",
    "zmin   = bounds[4] * scale\n",
    "zmax   = bounds[5] * scale\n",
    "x_extent = [ymin-ymax/2.0, ymax-ymax/2.0, zmin, zmax]\n",
    "y_extent = [xmin-xmax/2.0, xmax-xmax/2.0, zmin, zmax]\n",
    "\n",
    "# resolution\n",
    "\n",
    "dx = xmax/nxt/scale\n",
    "\n",
    "#         slice position\n",
    "x_point = int(nxt/2)\n",
    "y_point = int(nyt/2)"
   ]
  },
  {
   "cell_type": "code",
   "execution_count": null,
   "metadata": {},
   "outputs": [],
   "source": []
  }
 ],
 "metadata": {
  "kernelspec": {
   "display_name": "Python 3",
   "language": "python",
   "name": "python3"
  },
  "language_info": {
   "codemirror_mode": {
    "name": "ipython",
    "version": 3
   },
   "file_extension": ".py",
   "mimetype": "text/x-python",
   "name": "python",
   "nbconvert_exporter": "python",
   "pygments_lexer": "ipython3",
   "version": "3.8.6"
  }
 },
 "nbformat": 4,
 "nbformat_minor": 4
}
