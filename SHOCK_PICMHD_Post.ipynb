{
 "cells": [
  {
   "cell_type": "code",
   "execution_count": 43,
   "metadata": {},
   "outputs": [
    {
     "name": "stdout",
     "output_type": "stream",
     "text": [
      "Studying simulation PIC_SHOCK_GAS_test2\n"
     ]
    }
   ],
   "source": [
    "import time\n",
    "import PICclass as PIC\n",
    "import numpy as np\n",
    "from matplotlib import rc, rcParams\n",
    "import matplotlib.pyplot as plt\n",
    "import random\n",
    "\n",
    "rc('xtick', labelsize=22)\n",
    "rc('ytick', labelsize=22)\n",
    "rcParams['lines.linewidth'] = 4\n",
    "rcParams['font.size'] = 35\n",
    "clist = ['#1f77b4', '#ff7f0e', '#2ca02c', '#d62728', '#9467bd', '#7f7f7f', '#e377c2', '#8c564b', '#17becf', '#bcbd22']\n",
    "\n",
    "###############################################################################\n",
    "### Data ###\n",
    "\"\"\"Here are all the stuff to declare before running the script. It consists in the name of the data files to be analyzed but also\n",
    "in the details of the simulation box as well as how you want to analyze them \"\"\"\n",
    "\n",
    "#C> - Name of the simulation where to find the MHD data\n",
    "#C>---------------------------------------------------- \n",
    "MHD_prefix = \"PIC_SHOCK_GAS_test2\"\n",
    "MHD_workdir = \"/travail/wyao/data/\" + MHD_prefix + \"/\"\n",
    "\n",
    "#C> - Name of the simulation\n",
    "#C>-------------------------\n",
    "prefix = \"PIC_SHOCK_GAS_test2\"\n",
    "nickname = \"GAS_2e-2\"\n",
    "print \"Studying simulation\", prefix\n",
    "\n",
    "#C> - Path to get the data\n",
    "#C>-----------------------\n",
    "workdir = \"/travail/wyao/data/\" + prefix + \"/PIC_reduced/\"\n",
    "\n",
    "#C> - Path to save the figures\n",
    "#C>---------------------------\n",
    "savepath = \"/travail/wyao/data/\" + prefix + \"/Treatment/\"\n",
    "\n",
    "###############################################################################\n",
    "\n",
    "#C> - Required arguments to pass to the PICclass script\n",
    "#C>----------------------------------------------------\n",
    "Z = 1.\n",
    "atomic_weight = 1.\n",
    "\n",
    "#C> - Informations about times\n",
    "#C>---------------------------\n",
    "MHD_Time_start = 0.0\n",
    "MHD_Time_end = 20.0\n",
    "MHD_time_out_frequency = 2.0\n",
    "\n",
    "PIC_Time_start = 0.0                                                        #Time when the PIC module was activated in the simulation; nanosecond unit\n",
    "PIC_Time_end = 20.0 #17.2                                                    #Time when the PIC module wrote its last output files; nanosecond unit.\n",
    "PIC_time_out_frequency = 2.0\n",
    "\n",
    "PIC_iter_start = 0\n",
    "PIC_iter_stop = int(PIC_Time_end/PIC_time_out_frequency)\n",
    "\n",
    "pic = PIC.PIC(workdir, prefix, 0, savepath, Z, atomic_weight)\n",
    "elementary_charge, gamma, K_Boltzmann, proton_mass, electron_mass, c_light, mu_zero = pic.load_cst()"
   ]
  },
  {
   "cell_type": "code",
   "execution_count": 47,
   "metadata": {},
   "outputs": [],
   "source": [
    "timing_start = time.time()\n",
    "\n",
    "pic = PIC.PIC(workdir, prefix, 0, savepath, Z, atomic_weight)\n",
    "\n",
    "pic.SecurityCheckPaths(\"\")\n",
    "\n",
    "ipx,ipy,ipz, \\\n",
    "iPx,iPy,iPz, \\\n",
    "iBx,iBy,iBz, \\\n",
    "iEx,iEy,iEz, \\\n",
    "imass,icharge,itag, \\\n",
    "iMHD_rho,iMHD_Ti,iMHD_Te, \\\n",
    "iMHD_Vx,iMHD_Vy,iMHD_Vz, \\\n",
    "idx_nb_part,idx_PIC_dt,idx_PIC_time = pic.Header()\n",
    "\n",
    "idx_wrong_dt = idx_nb_part\n",
    "idx_nb_wrong_dt = idx_PIC_dt"
   ]
  },
  {
   "cell_type": "code",
   "execution_count": 48,
   "metadata": {},
   "outputs": [
    {
     "data": {
      "text/plain": [
       "<Figure size 1008x1008 with 0 Axes>"
      ]
     },
     "execution_count": 48,
     "metadata": {},
     "output_type": "execute_result"
    },
    {
     "data": {
      "text/plain": [
       "<Figure size 1008x1008 with 0 Axes>"
      ]
     },
     "metadata": {},
     "output_type": "display_data"
    }
   ],
   "source": [
    "plt.rc('figure.subplot', top=0.94)\n",
    "plt.rc('figure.subplot', bottom=0.16)\n",
    "plt.rc('figure.subplot', left=0.14)\n",
    "plt.rc('figure.subplot', right=0.92)\n",
    "plt.figure(figsize=(14.,14.))"
   ]
  },
  {
   "cell_type": "code",
   "execution_count": 5,
   "metadata": {},
   "outputs": [
    {
     "name": "stdout",
     "output_type": "stream",
     "text": [
      "iter =  0\n",
      "count particles, done\n",
      "Time: 0.00 ns, nb_particles = 5568682/5568682 with 0 fucked up particles removed.\n",
      "extract all data, done\n"
     ]
    },
    {
     "name": "stderr",
     "output_type": "stream",
     "text": [
      "PICclass.py:406: RuntimeWarning: divide by zero encountered in divide\n",
      "  ergs[:, 0] = 0.5*(datmass[:]*(c_light**2.0)*momenta[:])/(elementary_charge*((datmass[:]*c_light)**2 + momenta[:]))\n",
      "PICclass.py:406: RuntimeWarning: invalid value encountered in divide\n",
      "  ergs[:, 0] = 0.5*(datmass[:]*(c_light**2.0)*momenta[:])/(elementary_charge*((datmass[:]*c_light)**2 + momenta[:]))\n"
     ]
    },
    {
     "name": "stdout",
     "output_type": "stream",
     "text": [
      "compute energies for all the particles, done\n",
      "select the particles with energy higher than a certain value, here 4.5e4 [J]?\n",
      "iter =  1\n",
      "count particles, done\n",
      "Time: 2.00 ns, nb_particles = 3286402/3286402 with 0 fucked up particles removed.\n",
      "extract all data, done\n",
      "compute energies for all the particles, done\n",
      "select the particles with energy higher than a certain value, here 4.5e4 [J]?\n",
      "iter =  2\n",
      "count particles, done\n",
      "Time: 4.00 ns, nb_particles = 2708356/2708356 with 0 fucked up particles removed.\n",
      "extract all data, done\n",
      "compute energies for all the particles, done\n",
      "select the particles with energy higher than a certain value, here 4.5e4 [J]?\n",
      "iter =  3\n",
      "count particles, done\n",
      "Time: 6.00 ns, nb_particles = 2332640/2332640 with 0 fucked up particles removed.\n",
      "extract all data, done\n",
      "compute energies for all the particles, done\n",
      "select the particles with energy higher than a certain value, here 4.5e4 [J]?\n",
      "iter =  4\n",
      "count particles, done\n",
      "Time: 8.00 ns, nb_particles = 2020829/2020829 with 0 fucked up particles removed.\n",
      "extract all data, done\n",
      "compute energies for all the particles, done\n",
      "select the particles with energy higher than a certain value, here 4.5e4 [J]?\n",
      "iter =  5\n",
      "count particles, done\n",
      "Time: 10.00 ns, nb_particles = 1758531/1758531 with 0 fucked up particles removed.\n",
      "extract all data, done\n",
      "compute energies for all the particles, done\n",
      "select the particles with energy higher than a certain value, here 4.5e4 [J]?\n",
      "iter =  6\n",
      "count particles, done\n",
      "Time: 12.00 ns, nb_particles = 1541187/1541187 with 0 fucked up particles removed.\n",
      "extract all data, done\n",
      "compute energies for all the particles, done\n",
      "select the particles with energy higher than a certain value, here 4.5e4 [J]?\n",
      "iter =  7\n",
      "count particles, done\n",
      "Time: 14.00 ns, nb_particles = 1366933/1366933 with 0 fucked up particles removed.\n",
      "extract all data, done\n",
      "compute energies for all the particles, done\n",
      "select the particles with energy higher than a certain value, here 4.5e4 [J]?\n",
      "iter =  8\n",
      "count particles, done\n",
      "Time: 16.00 ns, nb_particles = 1222185/1222185 with 0 fucked up particles removed.\n",
      "extract all data, done\n",
      "compute energies for all the particles, done\n",
      "select the particles with energy higher than a certain value, here 4.5e4 [J]?\n",
      "iter =  9\n",
      "count particles, done\n",
      "Time: 18.00 ns, nb_particles = 1108312/1108312 with 0 fucked up particles removed.\n",
      "extract all data, done\n",
      "compute energies for all the particles, done\n",
      "select the particles with energy higher than a certain value, here 4.5e4 [J]?\n",
      "  *  \n"
     ]
    }
   ],
   "source": [
    "PIC_selected = np.asarray([])\n",
    "\n",
    "selection_timing_start = time.time()\n",
    "for i in range(PIC_iter_start, PIC_iter_stop):\n",
    "    print \"iter = \", i\n",
    "    pic = PIC.PIC(workdir, prefix, i, savepath, Z, atomic_weight)\n",
    "#\n",
    "    nb_particles = pic.CountParticles_V2(idx_nb_part)\n",
    "    print \"count particles, done\"    \n",
    "#\n",
    "    \"\"\"Reading all the data for all the particles\"\"\"\n",
    "    data_to_load = np.asarray([ipx, ipy, ipz, \n",
    "                               iPx, iPy, iPz, \n",
    "                               iBx, iBy, iBz, \n",
    "                               iEx, iEy, iEz, \n",
    "                               imass, icharge, \n",
    "                               idx_wrong_dt, \n",
    "                               idx_nb_wrong_dt,  # No.15\n",
    "                               itag              # No.16\n",
    "                              ])\n",
    "    PICData = pic.ExtractAllData_V2(data_to_load, PIC_time_out_frequency, nb_particles, 15, 16, info=True)  #C> - indices 15 and 16 are for the nb of wrong dt of the particle AND for the tags\n",
    "    print \"extract all data, done\"\n",
    "#\n",
    "    \"\"\"Computing and plotting the energies of all the particles\"\"\"\n",
    "    Energy = pic.ComputeEnergies(PICData[:,3:6],PICData[:,12], PICData[:,-1])\n",
    "    print \"compute energies for all the particles, done\"\n",
    "#\n",
    "    \"\"\"Creating a sub-category of particles based on a criterion (here: 10.*Eref --> energetic particles) and saving their tags\n",
    "    WARNING: The function removes the particles selected from the initial PICData array\"\"\"\n",
    "    #PICData, PICData_up = pic.DistinguishEnergy(PICData, Energy, 8.0e6) # 0.*Eref)         #C> - Here is a function using numpy.where function: it is very slow if the number of particles is large\n",
    "    PICData_up = Energy[(Energy[:,0] > 4.5e4),:]                                            #C> - This way creates a mask and is way faster than the other.\n",
    "    print \"select the particles with energy higher than a certain value, here 4.5e4 [J]?\"\n",
    "#\n",
    "    try :\n",
    "        PIC_selected = np.append(PIC_selected, PICData_up[:,-1])\n",
    "        print \"Number of particles distinguished with the criterion: \" + np.size(PICData_up[:,-1])\n",
    "    except :\n",
    "        pass\n",
    "\n",
    "plt.close()\n",
    "print '  *  '"
   ]
  },
  {
   "cell_type": "code",
   "execution_count": null,
   "metadata": {},
   "outputs": [],
   "source": []
  },
  {
   "cell_type": "code",
   "execution_count": 6,
   "metadata": {},
   "outputs": [
    {
     "name": "stdout",
     "output_type": "stream",
     "text": [
      "PIC first selection:  1849960  particles selected\n"
     ]
    }
   ],
   "source": [
    "\"\"\"Removes multiple appearance of the same particles\"\"\"\n",
    "PIC_selected = np.unique(PIC_selected)\n",
    "PIC_selected = PIC_selected[1:]\n",
    "print \"PIC first selection: \", np.size(PIC_selected), \" particles selected\""
   ]
  },
  {
   "cell_type": "code",
   "execution_count": 7,
   "metadata": {},
   "outputs": [
    {
     "name": "stdout",
     "output_type": "stream",
     "text": [
      "All times swept and data read - selection of reduced sets of particles done | Time taken: 17.11 minutes\n"
     ]
    }
   ],
   "source": [
    "selection_timing_end = time.time()\n",
    "print \"All times swept and data read - selection of reduced sets of particles done | Time taken: \" + str( \"%.2f\" % ((selection_timing_end-selection_timing_start)/60.) ) + \" minutes\""
   ]
  },
  {
   "cell_type": "code",
   "execution_count": 8,
   "metadata": {},
   "outputs": [],
   "source": [
    "\"\"\"Takes 300 particles randomly in the array of the selected particles\"\"\"\n",
    "random_list = random.sample(xrange(np.size(PIC_selected)), 300)\n",
    "PIC_selection = np.sort(PIC_selected[random_list])"
   ]
  },
  {
   "cell_type": "code",
   "execution_count": 9,
   "metadata": {},
   "outputs": [],
   "source": [
    "\"\"\"This is an array to save the quantities related to the particles for all the times\"\"\"\n",
    "PICData_sub1 = np.zeros([np.size(PIC_selection),16,PIC_iter_stop+1])         #C> - The '16' is to be changed accordingly to the number of quantities taken\n",
    "PICData_sub1[:,0,0] = PIC_selection"
   ]
  },
  {
   "cell_type": "code",
   "execution_count": 10,
   "metadata": {},
   "outputs": [],
   "source": [
    "\"\"\"This is an array to save mainly the positions of the selected particles for all the times\"\"\"\n",
    "BasicQ_sub1 = np.zeros([np.size(PIC_selection),14,PIC_iter_stop+1])\n",
    "BasicQ_sub1[:,0,0] = PIC_selection"
   ]
  },
  {
   "cell_type": "code",
   "execution_count": 11,
   "metadata": {},
   "outputs": [],
   "source": [
    "PIC_selection = PIC_selection.astype(int)"
   ]
  },
  {
   "cell_type": "code",
   "execution_count": 12,
   "metadata": {},
   "outputs": [
    {
     "name": "stdout",
     "output_type": "stream",
     "text": [
      "Time: 0.00, number of particles up found: (300, 23)\n",
      " ------------------ \n",
      "Time: 0.00, data read and quantities derived...\n",
      "Time: 2.00, number of particles up found: (300, 23)\n",
      " ------------------ \n",
      "Time: 2.00, data read and quantities derived...\n"
     ]
    },
    {
     "name": "stderr",
     "output_type": "stream",
     "text": [
      "PICclass.py:457: RuntimeWarning: invalid value encountered in divide\n",
      "  tmp_Vector2[:,0] = Vector2[:,0]/V2_mag\n",
      "PICclass.py:458: RuntimeWarning: invalid value encountered in divide\n",
      "  tmp_Vector2[:,1] = Vector2[:,1]/V2_mag\n",
      "PICclass.py:459: RuntimeWarning: invalid value encountered in divide\n",
      "  tmp_Vector2[:,2] = Vector2[:,2]/V2_mag\n",
      "/mesopsl3/home/wyao/anaconda2/lib/python2.7/site-packages/ipykernel_launcher.py:31: RuntimeWarning: invalid value encountered in divide\n",
      "PICclass.py:374: RuntimeWarning: invalid value encountered in divide\n",
      "  ergs[:,0] = 0.5*(datmass[:]*(c_light**2.0)*momenta[:])/(elementary_charge*((datmass[:]*c_light)**2 + momenta[:]))\n"
     ]
    },
    {
     "name": "stdout",
     "output_type": "stream",
     "text": [
      "Time: 4.00, number of particles up found: (300, 23)\n",
      " ------------------ \n",
      "Time: 4.00, data read and quantities derived...\n",
      "Time: 6.00, number of particles up found: (300, 23)\n",
      " ------------------ \n",
      "Time: 6.00, data read and quantities derived...\n",
      "Time: 8.00, number of particles up found: (300, 23)\n",
      " ------------------ \n",
      "Time: 8.00, data read and quantities derived...\n",
      "Time: 10.00, number of particles up found: (300, 23)\n",
      " ------------------ \n",
      "Time: 10.00, data read and quantities derived...\n",
      "Time: 12.00, number of particles up found: (300, 23)\n",
      " ------------------ \n",
      "Time: 12.00, data read and quantities derived...\n",
      "Time: 14.00, number of particles up found: (300, 23)\n",
      " ------------------ \n",
      "Time: 14.00, data read and quantities derived...\n",
      "Time: 16.00, number of particles up found: (300, 23)\n",
      " ------------------ \n",
      "Time: 16.00, data read and quantities derived...\n",
      "Time: 18.00, number of particles up found: (300, 23)\n",
      " ------------------ \n",
      "Time: 18.00, data read and quantities derived...\n",
      "Reduced set of selected particles: data read and quantities derived... | Time taken: 13.10 minutes\n",
      "*\n"
     ]
    }
   ],
   "source": [
    "selection_timing_start = time.time()\n",
    "for i in range(PIC_iter_start, PIC_iter_stop):\n",
    "    pic = PIC.PIC(workdir, prefix, i, savepath, Z, atomic_weight)\n",
    "#C> ----\n",
    "    nb_particles = pic.CountParticles_V2(idx_nb_part)\n",
    "    data_to_load = np.asarray([ipx,ipy,ipz,iPx,iPy,iPz,iBx,iBy,iBz,iEx,iEy,iEz,imass,icharge,iMHD_rho,iMHD_Ti,iMHD_Te,iMHD_Vx,iMHD_Vy,iMHD_Vz,idx_wrong_dt,idx_nb_wrong_dt,itag]) #  [ipx, ipy, ipz, iPx, iPy, iPz, iBx, iBy, iBz, iEx, iEy, iEz, imass, icharge, idx_wrong_dt, idx_nb_wrong_dt, itag])\n",
    "    PICData = pic.ExtractAllData_V2(data_to_load, PIC_time_out_frequency, nb_particles, 21, 22)  #C> - indices 15 and 16 are for the nb of wrong dt of the particle AND for the tags\n",
    "#C> ----\n",
    "    max_tag = np.max(PICData[:,-1])\n",
    "    up_size = np.size(PIC_selection[(PIC_selection < max_tag)])\n",
    "    if (up_size > 0):\n",
    "        PICData_first_set = PICData[PIC_selection[(PIC_selection < max_tag)],:]\n",
    "        print \"Time: \" + str(\"%.2f\" % (i*PIC_time_out_frequency)) + \", number of particles up found: \" + str(np.shape(PICData_first_set))\n",
    "\n",
    "        PICData_sub1[:up_size, 15, i+1] = PICData_first_set[:, -1]\n",
    "        PICData_sub1[:up_size, 14, i+1] = PICData_first_set[:, 13]\n",
    "        PICData_sub1[:up_size, 13, i+1] = PICData_first_set[:, 12]\n",
    "        \"\"\"Get and save the spatial coordinates, velocity and B-field components of the particles - for a later use to then study their trajectories and others\"\"\"\n",
    "        BasicQ_sub1[:up_size, :, i+1] = PICData_first_set[:, :14]\n",
    "        \"\"\"Get the local (to the particle) MHD quantities: density (kg/m^3), ionic temperature(eV), electronic temperature (eV) and flow velocity (m/s)\"\"\"\n",
    "####    PICData_sub1[:,7,1:] = 1.0e-4                                              #Vacuum of GORGON from 1e-5kg/m3 to 1e-4kg/m3\n",
    "        PICData_sub1[:up_size, 7:10, i+1] = PICData_first_set[:, 14:17]\n",
    "        PICData_sub1[:up_size, 10,   i+1] = np.sqrt(PICData_first_set[:, 17]**2. + PICData_first_set[:, 18]**2. + PICData_first_set[:, 19]**2.)\n",
    "        \"\"\"Get the local B- and E-fields (in this order!) moduli\"\"\"\n",
    "        PICData_sub1[:up_size, 3, i+1] = np.linalg.norm(PICData_first_set[:, 6: 9], axis=1)\n",
    "        PICData_sub1[:up_size, 4, i+1] = np.linalg.norm(PICData_first_set[:, 9:12], axis=1)\n",
    "        \"\"\"Get the perpendicular and parallel velocities (in this order!) a vector; the array for parallel velocities has four dimensions to save the sign with respect to B_local\"\"\"\n",
    "        Vperp_first_set, Vpara_first_set = pic.V1_wrt_V2(PICData_first_set[:, 3:6], PICData_first_set[:, 6:9], PICData_sub1[:up_size, 0, 0])\n",
    "        \"\"\"Get the particle ion temperature (in eV) and then (in this order!) the square of the perpendicular velocity component modulus (in (m/s)^2)\"\"\"\n",
    "        momenta_prime = np.linalg.norm(PICData_first_set[:,3:6], axis=1)*np.linalg.norm(PICData_first_set[:,3:6], axis=1)\n",
    "        gamma_prime = np.sqrt(1. + (momenta_prime/(PICData_sub1[:up_size, 13, i+1]*c_light)**2))\n",
    "        PICData_sub1[:up_size, 11, i+1] = (momenta_prime)/(elementary_charge*PICData_sub1[:up_size, 13, i+1]*gamma_prime**2)\n",
    "        PICData_sub1[:up_size, 12, i+1] = (np.linalg.norm(Vperp_first_set[:, :3], axis=1)*np.linalg.norm(Vperp_first_set[:,:3], axis=1))/(PICData_sub1[:up_size, 13, i+1]*gamma_prime)**2\n",
    "        \"\"\"Get the perpendicular and parallel components (in this order!) of the electric field; the array for parallel electric field has four dimensions to save the sign with respect to B_local\"\"\"\n",
    "        Efield_perp_first_set, Efield_para_first_set = pic.V1_wrt_V2(PICData_first_set[:, 9:12], PICData_first_set[:, 6:9], PICData_sub1[:up_size, 0, 0])\n",
    "        \"\"\"Save the perpendicular and parallel (in this order!) components of the electric field\"\"\"\n",
    "        PICData_sub1[:up_size, 5, i+1] = np.linalg.norm(Efield_perp_first_set [:, :3],axis=1)\n",
    "        PICData_sub1[:up_size, 6, i+1] = np.linalg.norm(Efield_para_first_set [:, :3],axis=1)\n",
    "        \"\"\"Get the energies: total, perpendicular and parallel (in this order!)\"\"\"\n",
    "        PICData_sub1[:up_size, 0, i+1] = pic.ComputeEnergiesSelection(PICData_first_set[:, 3:6], PICData_sub1[:up_size, 13,i+1], PICData_sub1[:up_size, 15, i+1])[:,0]\n",
    "        PICData_sub1[:up_size, 1, i+1], PICData_sub1[:up_size, 2, i+1] = pic.EpeEpa(Vperp_first_set, Vpara_first_set, PICData_sub1[:up_size, 13, i+1])\n",
    "        print \" ------------------ \"\n",
    "#C> - -----------------------------------------------------\n",
    "    print \"Time: \" + str( \"%.2f\" % (i*PIC_time_out_frequency) ) + \", data read and quantities derived...\"\n",
    "\n",
    "selection_timing_end = time.time()\n",
    "print \"Reduced set of selected particles: data read and quantities derived... | Time taken: \" + str( \"%.2f\" % ((selection_timing_end-selection_timing_start)/60.) ) + \" minutes\"\n",
    "print \"*\"\n"
   ]
  },
  {
   "cell_type": "code",
   "execution_count": 13,
   "metadata": {},
   "outputs": [],
   "source": [
    "selection_timing_start = time.time()\n",
    "\n",
    "\n",
    "\"\"\"Conversion from momenta components to velocity components\"\"\"\n",
    "BasicQ_sub1[:,3:6,1:] = pic.ConversionPj_to_Vj(BasicQ_sub1[:,3:6,1:])"
   ]
  },
  {
   "cell_type": "code",
   "execution_count": 14,
   "metadata": {},
   "outputs": [
    {
     "name": "stdout",
     "output_type": "stream",
     "text": [
      "Calling for the function to plot the trajectories of the particles from the first subcategory\n",
      "SecurityCheckPaths function: creation of the directory: /travail/wyao/data/PIC_SHOCK_GAS_test1/Treatment/Trajectories/Energetics/.\n",
      "('Plot_trajectories - ', 0, ' images plotted')\n",
      "('Plot_trajectories - ', 100, ' images plotted')\n",
      "('Plot_trajectories - ', 200, ' images plotted')\n"
     ]
    }
   ],
   "source": [
    "\"\"\"Here the script is calling the PIC class deidcated to the plots (see PICclass.py script)\"\"\"\n",
    "\"\"\"Plot of the spatial coordinates as function of time and as function of one another\"\"\"\n",
    "picplot = PIC.PICPlot(workdir, nickname, savepath, 14., 14., .9, .1, .09, .96)\n",
    "print \"Calling for the function to plot the trajectories of the particles from the first subcategory\"\n",
    "pic.SecurityCheckPaths(\"Trajectories/Energetics/\")\n",
    "picplot.PlotTrajectories(PIC_iter_start, PIC_iter_stop, PIC_time_out_frequency, 8., 8., BasicQ_sub1[:,:3,:]*1e3, 50, \"Trajectories/Energetics/\", 'r-')   #(PIC_Time_start, PIC_Time_end, PIC_time_out_frequency, 8., 8., BasicQ_sub1[:,:3,:]*1e3, 20, \"Trajectories/Energetics/\", 'r-')"
   ]
  },
  {
   "cell_type": "code",
   "execution_count": 21,
   "metadata": {},
   "outputs": [],
   "source": [
    "\"\"\" Compute and plot some plasma parameters/quantities: cyclotron time, Larmor radius, first adiabatic invariant \"\"\"\n",
    "PlasmaQ_1 = np.zeros([np.size(PIC_selection),3,PIC_iter_stop])\n",
    "PlasmaQ_1[:,0,:] = pic.ComputeTau_ci(PICData_sub1[:,3,1:], PICData_sub1[:,13,1:], PICData_sub1[:,14,1:])\n",
    "PlasmaQ_1[:,1,:] = pic.ComputeLarmorRadius(PICData_sub1[:,11,1:], PICData_sub1[:,3,1:], PICData_sub1[:,13,1:], PICData_sub1[:,14,1:])\n",
    "PlasmaQ_1[:,2,:] = pic.ComputeFirstAdiabaticInvariant(PICData_sub1[:,12,1:], PICData_sub1[:,3,1:], PICData_sub1[:,13,1:])"
   ]
  },
  {
   "cell_type": "code",
   "execution_count": 38,
   "metadata": {},
   "outputs": [
    {
     "name": "stdout",
     "output_type": "stream",
     "text": [
      "I'm going to plot the plasma quantities of the energetic particles\n",
      "('PlotPlasmaQuantities - ', 0, ' images plotted')\n",
      "('PlotPlasmaQuantities - ', 100, ' images plotted')\n",
      "('PlotPlasmaQuantities - ', 200, ' images plotted')\n",
      "('Energy: average, standard deviation and std/average - ', 8.602814109222498, 15.565986429992893, ' and ', 1.8094063445245954)\n",
      "('Larmor radius: average, std and std/average - ', 1.0108631258008161e+22, 5.150326466991126e+20, 'and ', 0.050949790684183725)\n",
      "('First adiabatic invariant: avg, std and std/avg - ', 1.0197500586597028, 0.047376218178207315, 'and ', 0.04645865697764776)\n"
     ]
    }
   ],
   "source": [
    "\"\"\"Here the script is calling the PIC class deidcated to the plots (see PICclass.py script)\"\"\"\n",
    "picplot = PIC.PICPlot(workdir, nickname, savepath, 14., 14., .9, .1, .14, .96)\n",
    "print \"I'm going to plot the plasma quantities of the energetic particles\"\n",
    "pic.SecurityCheckPaths(\"Mu_Rho_and_Tau/Energetics/\")\n",
    "picplot.PlotPlasmaQuantities(PIC_iter_start, PIC_iter_stop, PIC_time_out_frequency, PICData_sub1[:,0,:], 1.0e3, PlasmaQ_1, 20, \"Mu_Rho_and_Tau/Energetics/\", 'b-')"
   ]
  },
  {
   "cell_type": "code",
   "execution_count": 20,
   "metadata": {},
   "outputs": [
    {
     "data": {
      "text/plain": [
       "300"
      ]
     },
     "execution_count": 20,
     "metadata": {},
     "output_type": "execute_result"
    }
   ],
   "source": [
    "np.size(PICData_sub1[:,1,1])"
   ]
  },
  {
   "cell_type": "code",
   "execution_count": 28,
   "metadata": {},
   "outputs": [
    {
     "data": {
      "text/plain": [
       "(300,)"
      ]
     },
     "execution_count": 28,
     "metadata": {},
     "output_type": "execute_result"
    }
   ],
   "source": [
    "np.shape(PICData_sub1[1,0,0])"
   ]
  },
  {
   "cell_type": "code",
   "execution_count": 29,
   "metadata": {},
   "outputs": [
    {
     "data": {
      "text/plain": [
       "(300, 3, 10)"
      ]
     },
     "execution_count": 29,
     "metadata": {},
     "output_type": "execute_result"
    }
   ],
   "source": [
    "np.shape(PlasmaQ_1)"
   ]
  },
  {
   "cell_type": "code",
   "execution_count": 34,
   "metadata": {},
   "outputs": [
    {
     "data": {
      "text/plain": [
       "(20,)"
      ]
     },
     "execution_count": 34,
     "metadata": {},
     "output_type": "execute_result"
    }
   ],
   "source": [
    "np.shape(np.arange(PIC_iter_start,PIC_Time_end)*PIC_time_out_frequency)"
   ]
  },
  {
   "cell_type": "code",
   "execution_count": 35,
   "metadata": {},
   "outputs": [
    {
     "data": {
      "text/plain": [
       "10"
      ]
     },
     "execution_count": 35,
     "metadata": {},
     "output_type": "execute_result"
    }
   ],
   "source": [
    "PIC_iter_start\n",
    "PIC_iter_stop"
   ]
  },
  {
   "cell_type": "code",
   "execution_count": 32,
   "metadata": {},
   "outputs": [
    {
     "data": {
      "text/plain": [
       "20.0"
      ]
     },
     "execution_count": 32,
     "metadata": {},
     "output_type": "execute_result"
    }
   ],
   "source": [
    "PIC_Time_end"
   ]
  },
  {
   "cell_type": "code",
   "execution_count": 33,
   "metadata": {},
   "outputs": [
    {
     "data": {
      "text/plain": [
       "2.0"
      ]
     },
     "execution_count": 33,
     "metadata": {},
     "output_type": "execute_result"
    }
   ],
   "source": [
    "PIC_time_out_frequency"
   ]
  },
  {
   "cell_type": "code",
   "execution_count": null,
   "metadata": {},
   "outputs": [],
   "source": []
  }
 ],
 "metadata": {
  "kernelspec": {
   "display_name": "Python 2",
   "language": "python",
   "name": "python2"
  },
  "language_info": {
   "codemirror_mode": {
    "name": "ipython",
    "version": 2
   },
   "file_extension": ".py",
   "mimetype": "text/x-python",
   "name": "python",
   "nbconvert_exporter": "python",
   "pygments_lexer": "ipython2",
   "version": "2.7.16"
  }
 },
 "nbformat": 4,
 "nbformat_minor": 2
}
